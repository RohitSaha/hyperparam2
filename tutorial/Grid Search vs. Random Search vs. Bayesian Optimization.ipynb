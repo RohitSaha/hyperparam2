{
 "cells": [
  {
   "cell_type": "markdown",
   "metadata": {},
   "source": [
    "To illustrate differences in methods, we will use the \"Three Hump Camel\" function, which has a global minimum at (0,0)."
   ]
  },
  {
   "cell_type": "code",
   "execution_count": 18,
   "metadata": {},
   "outputs": [],
   "source": [
    "def threehumpcamel(x,y):\n",
    "    return 2*x**2-1.05*x**4+x**6/6+x*y+y**2"
   ]
  },
  {
   "cell_type": "markdown",
   "metadata": {},
   "source": [
    "To set up our grid search, we will create a grid on $[-5,5]^2$"
   ]
  },
  {
   "cell_type": "code",
   "execution_count": 38,
   "metadata": {},
   "outputs": [
    {
     "data": {
      "image/png": "[encoded data removed]",
      "text/plain": [
       "<matplotlib.figure.Figure at 0x7ff6764d85d0>"
      ]
     },
     "metadata": {},
     "output_type": "display_data"
    }
   ],
   "source": [
    "import numpy as np\n",
    "import matplotlib.pyplot as plt\n",
    "\n",
    "X, Y = np.meshgrid(np.linspace(-5, 5, 20), np.linspace(-5, 5, 20))\n",
    "\n",
    "plt.figure()\n",
    "plt.scatter(X,Y)\n",
    "plt.plot(0,0)\n",
    "plt.show()"
   ]
  },
  {
   "cell_type": "code",
   "execution_count": 84,
   "metadata": {},
   "outputs": [
    {
     "name": "stdout",
     "output_type": "stream",
     "text": [
      "0.133523866131 at X = 0.263157894737 and Y = -0.263157894737\n"
     ]
    }
   ],
   "source": [
    "results_grid = threehumpcamel(X.flatten(),Y.flatten())\n",
    "print str(np.min(results_grid)) + \" at X = \" + str(X.flatten()[np.argmin(results_grid)]) + \" and Y = \" + str(Y.flatten()[np.argmin(results_grid)])"
   ]
  },
  {
   "cell_type": "markdown",
   "metadata": {},
   "source": [
    "Now we can generate a random grid with the same number of points:"
   ]
  },
  {
   "cell_type": "code",
   "execution_count": 88,
   "metadata": {
    "scrolled": true
   },
   "outputs": [
    {
     "data": {
      "image/png": "[encoded data removed]",
      "text/plain": [
       "<matplotlib.figure.Figure at 0x7ff6bcc4d190>"
      ]
     },
     "metadata": {},
     "output_type": "display_data"
    }
   ],
   "source": [
    "X_rand = np.random.uniform(low=-5.0, high=5.0, size=len(X.flatten()))\n",
    "Y_rand = np.random.uniform(low=-5.0, high=5.0, size=len(Y.flatten()))\n",
    "\n",
    "plt.figure()\n",
    "plt.scatter(X_rand,Y_rand)\n",
    "plt.plot(0,0)\n",
    "plt.show()"
   ]
  },
  {
   "cell_type": "markdown",
   "metadata": {},
   "source": [
    "This gives us a minimum at:"
   ]
  },
  {
   "cell_type": "code",
   "execution_count": 90,
   "metadata": {},
   "outputs": [
    {
     "name": "stdout",
     "output_type": "stream",
     "text": [
      "0.0368956208031 at X = 0.0859421720453 and Y = 0.112036125222\n"
     ]
    }
   ],
   "source": [
    "results_grid = threehumpcamel(X_rand,Y_rand)\n",
    "print str(np.min(results_grid)) + \" at X = \" + str(X_rand[np.argmin(results_grid)]) + \" and Y = \" + str(Y_rand[np.argmin(results_grid)])"
   ]
  },
  {
   "cell_type": "markdown",
   "metadata": {},
   "source": [
    "Now using Bayesian optimization, we have:"
   ]
  },
  {
   "cell_type": "code",
   "execution_count": null,
   "metadata": {
    "collapsed": true
   },
   "outputs": [],
   "source": []
  }
 ],
 "metadata": {
  "kernelspec": {
   "display_name": "Python 2",
   "language": "python",
   "name": "python2"
  },
  "language_info": {
   "codemirror_mode": {
    "name": "ipython",
    "version": 2
   },
   "file_extension": ".py",
   "mimetype": "text/x-python",
   "name": "python",
   "nbconvert_exporter": "python",
   "pygments_lexer": "ipython2",
   "version": "2.7.13"
  }
 },
 "nbformat": 4,
 "nbformat_minor": 2
}
