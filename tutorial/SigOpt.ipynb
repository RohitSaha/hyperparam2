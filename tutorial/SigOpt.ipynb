{
 "cells": [
  {
   "cell_type": "markdown",
   "metadata": {},
   "source": [
    "# SigOpt"
   ]
  },
  {
   "cell_type": "markdown",
   "metadata": {},
   "source": [
    "Once again, the function is\n",
    "\n",
    "$$f(x) = (x-3)*(x-2)*(x-1)*x*(x+2)*(x+3)$$\n",
    "\n",
    "which has a global min at -2.6 and two other local minima."
   ]
  },
  {
   "cell_type": "code",
   "execution_count": null,
   "metadata": {},
   "outputs": [],
   "source": [
    "import matplotlib.pyplot as plt\n",
    "import numpy as np\n",
    "f = lambda x: (x-3)*(x-2)*(x-1)*x*(x+2)*(x+3)\n",
    "plt.plot((np.array(range(620))-310)/100.,list(map(f, (np.array(range(620))-310)/100.)))\n",
    "plt.plot((-3.1,3.1),(0,0))\n",
    "plt.show()"
   ]
  },
  {
   "cell_type": "markdown",
   "metadata": {},
   "source": [
    "Now we will use a method from [SigOpt](https://sigopt.com/), which is a private company that specializes in Bayesian optimization. The company claims to be 100x faster than open source solutions. Below we create a connection to sigopt and do the same initilization that we did for GPyOpt."
   ]
  },
  {
   "cell_type": "code",
   "execution_count": null,
   "metadata": {
    "collapsed": true
   },
   "outputs": [],
   "source": [
    "from sigopt import Connection\n",
    "conn = Connection(client_token=\"INSERT TOKEN\")\n",
    "import numpy as np\n",
    "\n",
    "def foo(x):\n",
    "    return (x-3)*(x-2)*(x-1)*x*(x+2)*(x+3)\n",
    "\n",
    "x_init = np.array([[2],[0.5],[-2.9]]) \n",
    "y_init = foo(x_init)"
   ]
  },
  {
   "cell_type": "markdown",
   "metadata": {},
   "source": [
    "Now, we create an experiment with our connection. We pass in the domain, but nothing else:"
   ]
  },
  {
   "cell_type": "code",
   "execution_count": null,
   "metadata": {
    "collapsed": true
   },
   "outputs": [],
   "source": [
    "experiment = conn.experiments().create(\n",
    "    name='1D Function Example',\n",
    "    parameters=[\n",
    "        dict(name='x', type='double', bounds=dict(min=-3.3, max=3.3))\n",
    "    ],\n",
    ")"
   ]
  },
  {
   "cell_type": "markdown",
   "metadata": {},
   "source": [
    "Below we get a suggestions from SigOpt, then we evaluate it:"
   ]
  },
  {
   "cell_type": "code",
   "execution_count": null,
   "metadata": {},
   "outputs": [],
   "source": [
    "new_x = conn.experiments(experiment.id).suggestions().create()\n",
    "new_y = -foo(new_x.assignments['x'])"
   ]
  },
  {
   "cell_type": "markdown",
   "metadata": {},
   "source": [
    "Now we send our observation back to SigOpt, and they will prepare the next suggestion:"
   ]
  },
  {
   "cell_type": "code",
   "execution_count": null,
   "metadata": {},
   "outputs": [],
   "source": [
    "conn.experiments(experiment.id).observations().create(\n",
    "    suggestion = new_x.id,\n",
    "    value = new_y,\n",
    ")"
   ]
  },
  {
   "cell_type": "markdown",
   "metadata": {},
   "source": [
    "Below, we run the optimization for 20 iterations. If we go to the [SigOpt](https://sigopt.com/) website, we can go to the page and refresh the dashboard as the expreiment runs.  "
   ]
  },
  {
   "cell_type": "code",
   "execution_count": null,
   "metadata": {},
   "outputs": [],
   "source": [
    "import time\n",
    "\n",
    "for _ in range(20):\n",
    "    \n",
    "    new_x = conn.experiments(experiment.id).suggestions().create()\n",
    "    new_y = -foo(new_x.assignments['x'])\n",
    "    \n",
    "    conn.experiments(experiment.id).observations().create(\n",
    "        suggestion = new_x.id,\n",
    "        value = new_y,\n",
    "    )\n",
    "    \n",
    "    time.sleep(3)"
   ]
  },
  {
   "cell_type": "markdown",
   "metadata": {},
   "source": [
    "SigOpt has a few more customizable options than GPyOpt, and I will learn more about performance speed in the coming weeks. I'm hoping to build a wrapped that lets us alternate between to routines. Also, of note is that SigOpt maximizes, so you have to change your code slightly."
   ]
  }
 ],
 "metadata": {
  "kernelspec": {
   "display_name": "Python 2",
   "language": "python",
   "name": "python2"
  },
  "language_info": {
   "codemirror_mode": {
    "name": "ipython",
    "version": 2
   },
   "file_extension": ".py",
   "mimetype": "text/x-python",
   "name": "python",
   "nbconvert_exporter": "python",
   "pygments_lexer": "ipython2",
   "version": "2.7.13"
  }
 },
 "nbformat": 4,
 "nbformat_minor": 2
}
