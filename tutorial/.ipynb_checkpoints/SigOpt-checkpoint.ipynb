{
 "cells": [
  {
   "cell_type": "markdown",
   "metadata": {},
   "source": [
    "# General Approach to Bayesian Optimization (SigOpt)"
   ]
  },
  {
   "cell_type": "markdown",
   "metadata": {},
   "source": [
    "Once again, the function is\n",
    "\n",
    "$$f(x) = (x-3)*(x-2)*(x-1)*x*(x+2)*(x+3)$$\n",
    "\n",
    "which has a global min at -2.6 and two other local minima."
   ]
  },
  {
   "cell_type": "code",
   "execution_count": 2,
   "metadata": {},
   "outputs": [
    {
     "data": {
      "image/png": "[encoded data removed]",
      "text/plain": [
       "<matplotlib.figure.Figure at 0x7f26e967ac50>"
      ]
     },
     "metadata": {},
     "output_type": "display_data"
    }
   ],
   "source": [
    "import matplotlib.pyplot as plt\n",
    "import numpy as np\n",
    "f = lambda x: (x-3)*(x-2)*(x-1)*x*(x+2)*(x+3)\n",
    "plt.plot((np.array(range(620))-310)/100.,list(map(f, (np.array(range(620))-310)/100.)))\n",
    "plt.plot((-3.1,3.1),(0,0))\n",
    "plt.show()"
   ]
  },
  {
   "cell_type": "markdown",
   "metadata": {},
   "source": [
    "Now we will use a method from SigOpt, which is a private company that specializes in Bayesian optimization. The company claims to be 100x faster than open source solutions. Below we create a connection to sigopt and do the same initilization that we did for GPyOpt."
   ]
  },
  {
   "cell_type": "code",
   "execution_count": 5,
   "metadata": {
    "collapsed": true
   },
   "outputs": [],
   "source": [
    "from sigopt import Connection\n",
    "conn = Connection(client_token=\"XPEGZEYDQGYLNNCTEXTRHEFXSSVBUCWFOLQYVPIRLLAVIICG\")\n",
    "import numpy as np\n",
    "\n",
    "def foo(x):\n",
    "    return (x-3)*(x-2)*(x-1)*x*(x+2)*(x+3)\n",
    "\n",
    "x_init = np.array([[2],[0.5],[-2.9]]) \n",
    "y_init = foo(x_init)"
   ]
  },
  {
   "cell_type": "markdown",
   "metadata": {},
   "source": [
    "Now, we create an experiment with our connection. We pass in the domain, but nothing else:"
   ]
  },
  {
   "cell_type": "code",
   "execution_count": 12,
   "metadata": {
    "collapsed": true
   },
   "outputs": [],
   "source": [
    "experiment = conn.experiments().create(\n",
    "    name='One Dimensional Function Example',\n",
    "    parameters=[\n",
    "        dict(name='x', type='double', bounds=dict(min=-3.3, max=3.3))\n",
    "    ],\n",
    ")"
   ]
  },
  {
   "cell_type": "markdown",
   "metadata": {},
   "source": [
    "Below we get a suggestions from SigOpt, then we evaluate it:"
   ]
  },
  {
   "cell_type": "code",
   "execution_count": 16,
   "metadata": {},
   "outputs": [],
   "source": [
    "new_x = conn.experiments(experiment.id).suggestions().create()\n",
    "new_y = foo(new_x.assignments['x'])"
   ]
  },
  {
   "cell_type": "markdown",
   "metadata": {},
   "source": [
    "Now we send our observation back to SigOpt, and they will prepare the next suggestion:"
   ]
  },
  {
   "cell_type": "code",
   "execution_count": 17,
   "metadata": {},
   "outputs": [
    {
     "data": {
      "text/plain": [
       "Observation({\n",
       "  \"assignments\": {\n",
       "    \"x\": -0.42299602973078065\n",
       "  },\n",
       "  \"created\": 1510007503,\n",
       "  \"experiment\": \"28137\",\n",
       "  \"failed\": false,\n",
       "  \"id\": \"2148249\",\n",
       "  \"metadata\": null,\n",
       "  \"object\": \"observation\",\n",
       "  \"suggestion\": \"13063147\",\n",
       "  \"value\": 20.288360432828533,\n",
       "  \"value_stddev\": null,\n",
       "  \"values\": [\n",
       "    {\n",
       "      \"name\": null,\n",
       "      \"object\": \"metric_evaluation\",\n",
       "      \"value\": 20.288360432828533,\n",
       "      \"value_stddev\": null\n",
       "    }\n",
       "  ]\n",
       "})"
      ]
     },
     "execution_count": 17,
     "metadata": {},
     "output_type": "execute_result"
    }
   ],
   "source": [
    "conn.experiments(experiment.id).observations().create(\n",
    "    suggestion = new_x.id,\n",
    "    value = new_y,\n",
    ")"
   ]
  },
  {
   "cell_type": "code",
   "execution_count": 20,
   "metadata": {},
   "outputs": [],
   "source": [
    "import time\n",
    "\n",
    "for _ in range(20):\n",
    "    \n",
    "    new_x = conn.experiments(experiment.id).suggestions().create()\n",
    "    new_y = foo(new_x.assignments['x'])\n",
    "    \n",
    "    conn.experiments(experiment.id).observations().create(\n",
    "        suggestion = new_x.id,\n",
    "        value = new_y,\n",
    "    )\n",
    "    \n",
    "    time.sleep(3)"
   ]
  },
  {
   "cell_type": "code",
   "execution_count": null,
   "metadata": {
    "collapsed": true
   },
   "outputs": [],
   "source": []
  },
  {
   "cell_type": "code",
   "execution_count": null,
   "metadata": {
    "collapsed": true
   },
   "outputs": [],
   "source": []
  }
 ],
 "metadata": {
  "kernelspec": {
   "display_name": "Python 2",
   "language": "python",
   "name": "python2"
  },
  "language_info": {
   "codemirror_mode": {
    "name": "ipython",
    "version": 2
   },
   "file_extension": ".py",
   "mimetype": "text/x-python",
   "name": "python",
   "nbconvert_exporter": "python",
   "pygments_lexer": "ipython2",
   "version": "2.7.13"
  }
 },
 "nbformat": 4,
 "nbformat_minor": 2
}
